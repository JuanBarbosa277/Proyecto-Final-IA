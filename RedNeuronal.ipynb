{
  "nbformat": 4,
  "nbformat_minor": 0,
  "metadata": {
    "colab": {
      "name": "RedNeuronal.ipynb",
      "provenance": [],
      "authorship_tag": "ABX9TyN2QNK/XRdZZ8tY/hjpaSSp",
      "include_colab_link": true
    },
    "kernelspec": {
      "name": "python3",
      "display_name": "Python 3"
    }
  },
  "cells": [
    {
      "cell_type": "markdown",
      "metadata": {
        "id": "view-in-github",
        "colab_type": "text"
      },
      "source": [
        "<a href=\"https://colab.research.google.com/github/JuanBarbosa277/Proyecto-Final-IA/blob/main/RedNeuronal.ipynb\" target=\"_parent\"><img src=\"https://colab.research.google.com/assets/colab-badge.svg\" alt=\"Open In Colab\"/></a>"
      ]
    },
    {
      "cell_type": "code",
      "metadata": {
        "id": "g8DGaY6mPcPv"
      },
      "source": [
        "import pandas as pd\n",
        "import numpy as np\n",
        "import matplotlib.pyplot as plt\n",
        "from sklearn.preprocessing import StandardScaler\n",
        "from sklearn import preprocessing\n",
        "from sklearn.model_selection import train_test_split\n",
        "from sklearn.metrics import matthews_corrcoef\n",
        "from sklearn.metrics import accuracy_score\n",
        " \n",
        "data_set = pd.read_csv(\"citrus.csv\")\n",
        " \n",
        " \n",
        " \n",
        " \n",
        "Y_total = data_set.values[:,0];\n",
        " \n",
        " \n",
        "\n",
        "Y_total[Y_total[:] == 'orange'] = 1\n",
        "Y_total[Y_total[:] == 'grapefruit'] = 0\n",
        " \n",
        "Y_total=Y_total.astype('int')\n",
        " \n",
        " \n",
        "X_total = data_set.values[:, 1:5]\n",
        " \n",
        "#Partición de datos --> 30% para test y 70% para train\n",
        "X_train, X_test, y_train, y_test = train_test_split(X_total, Y_total, test_size=0.3, random_state=0)\n",
        " \n",
        "#escalización de datos de entrenamiento\n",
        "scaler = StandardScaler()\n",
        "scaler.fit(X_train)\n",
        "X_train = scaler.transform(X_train)\n",
        "X_test = scaler.transform(X_test)"
      ],
      "execution_count": 1,
      "outputs": []
    },
    {
      "cell_type": "code",
      "metadata": {
        "colab": {
          "base_uri": "https://localhost:8080/",
          "height": 436
        },
        "id": "H_2NC4VEcdXs",
        "outputId": "bf64aa3a-4f0b-48f5-8d06-e7a1f5ac0b24"
      },
      "source": [
        "  \n",
        "oranges_d=[]\n",
        "oranges_w=[]\n",
        "\n",
        "gfruits_d=[]\n",
        "gfruits_w=[]\n",
        " \n",
        "for i in np.arange(0,Y_total.size,1):\n",
        "    if Y_total[i]==1:\n",
        "        oranges_d.append(X_total[i,0])\n",
        "        oranges_w.append(X_total[i,1])\n",
        "    else:\n",
        "        gfruits_d.append(X_total[i,0])\n",
        "        gfruits_w.append(X_total[i,1])\n",
        "         \n",
        "fig = plt.figure(figsize=(10,6))\n",
        "fig.suptitle('Fruits features', fontsize=25)\n",
        "ax = fig.add_subplot(111)\n",
        "\n",
        "no_of_preds = len(oranges_d) + len(gfruits_d)\n",
        "\n",
        "ax.scatter(oranges_d,oranges_w, s=20, c='#FF5733', marker=\"v\", label='Oranges')\n",
        "ax.scatter(gfruits_d,gfruits_w, s=20, c='#830CF3', marker=\"P\", label='Grapefruits')\n",
        "\n",
        "  \n",
        "plt.legend(loc='upper right');\n",
        "  \n",
        "ax.set_xlabel('weight(g)', fontsize=15)\n",
        "ax.set_ylabel('diameter(cm)', fontsize=15)\n",
        "  \n",
        "plt.show()"
      ],
      "execution_count": 2,
      "outputs": [
        {
          "output_type": "display_data",
          "data": {
            "image/png": "[encoded data removed]",
            "text/plain": [
              "<Figure size 720x432 with 1 Axes>"
            ]
          },
          "metadata": {
            "tags": [],
            "needs_background": "light"
          }
        }
      ]
    },
    {
      "cell_type": "code",
      "metadata": {
        "id": "4y37PNYsmri3",
        "colab": {
          "base_uri": "https://localhost:8080/"
        },
        "outputId": "734ea2cb-a82b-4c23-f81d-e3bc17ea47e5"
      },
      "source": [
        "from sklearn.neural_network import MLPClassifier\n",
        "\"\"\"\n",
        "ref=-1\n",
        "MCC=0\n",
        "ACC=0\n",
        "for i in range(1,10):\n",
        "  for j in range(1,10):\n",
        "    clf=MLPClassifier(hidden_layer_sizes=(j,i),activation='relu',random_state=1, max_iter=1500, verbose=False)\n",
        "    clf.fit(X_train,y_train)\n",
        "    y_test_predicted_ANN=clf.predict(X_test)\n",
        "    ACC=accuracy_score(y_test,y_test_predicted_ANN)\n",
        "    MCC=matthews_corrcoef(y_test,y_test_predicted_ANN)\n",
        "    if MCC > ref:\n",
        "      ref=MCC\n",
        "      ref2=ACC\n",
        "      layer1=j\n",
        "      layer2=i\n",
        "print(ref)\n",
        "print(layer1)\n",
        "print(layer2)\n",
        "print(ref2)\n",
        "\"\"\"\n",
        "clf=MLPClassifier(hidden_layer_sizes=(8,8),activation='relu',random_state=1, max_iter=1500, verbose=False)\n",
        "clf.fit(X_train,y_train)\n",
        "print(\"ACC Clasificación por Red Neuronal: \", ACC)\n",
        "print(\"MCC Clasificación por Red Neuronal: \", MCC)\n",
        "\n",
        "\n"
      ],
      "execution_count": 4,
      "outputs": [
        {
          "output_type": "stream",
          "text": [
            "ACC Clasificación por Red Neuronal:  0.994\n",
            "MCC Clasificación por Red Neuronal:  0.9880316758767445\n"
          ],
          "name": "stdout"
        }
      ]
    }
  ]
}